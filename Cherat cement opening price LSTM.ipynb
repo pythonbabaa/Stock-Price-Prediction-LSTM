{
  "nbformat": 4,
  "nbformat_minor": 0,
  "metadata": {
    "colab": {
      "name": "Copy of final_monthly_Cherat_neural_network_Copy1 (1).ipynb",
      "provenance": [],
      "collapsed_sections": []
    },
    "kernelspec": {
      "display_name": "Python 3",
      "language": "python",
      "name": "python3"
    },
    "language_info": {
      "codemirror_mode": {
        "name": "ipython",
        "version": 3
      },
      "file_extension": ".py",
      "mimetype": "text/x-python",
      "name": "python",
      "nbconvert_exporter": "python",
      "pygments_lexer": "ipython3",
      "version": "3.8.6"
    }
  },
  "cells": [
    {
      "cell_type": "code",
      "metadata": {
        "id": "__nKsUiBDZQz"
      },
      "source": [
        "!pip install -U -q PyDrive\n",
        "from pydrive.auth import GoogleAuth\n",
        "from pydrive.drive import GoogleDrive\n",
        "from google.colab import auth\n",
        "from oauth2client.client import GoogleCredentials"
      ],
      "execution_count": null,
      "outputs": []
    },
    {
      "cell_type": "code",
      "metadata": {
        "id": "n45Qc-0RDZNn"
      },
      "source": [
        "auth.authenticate_user()\n",
        "gauth = GoogleAuth()\n",
        "gauth.credentials = GoogleCredentials.get_application_default()\n",
        "drive = GoogleDrive(gauth)"
      ],
      "execution_count": null,
      "outputs": []
    },
    {
      "cell_type": "code",
      "metadata": {
        "id": "tEnKlbg8DZKY"
      },
      "source": [
        "file_id = '1AVbnOfblP2lJTOowA1JFTZ-wS-wYc6b3'\n",
        "downloaded = drive.CreateFile({'id': file_id})\n",
        "downloaded = drive.CreateFile({'id':'1AVbnOfblP2lJTOowA1JFTZ-wS-wYc6b3'}) # replace the id with id of file you want to access\n",
        "downloaded.GetContentFile('cherat-final-dataset.csv')  \n",
        " \n"
      ],
      "execution_count": null,
      "outputs": []
    },
    {
      "cell_type": "code",
      "metadata": {
        "colab": {
          "base_uri": "https://localhost:8080/"
        },
        "id": "sTD09YjioUcf",
        "outputId": "4e975870-7317-464d-c8bb-855783acbd59"
      },
      "source": [
        "from google.colab import drive\n",
        "drive.mount('/content/drive')"
      ],
      "execution_count": null,
      "outputs": [
        {
          "output_type": "stream",
          "text": [
            "Mounted at /content/drive\n"
          ],
          "name": "stdout"
        }
      ]
    },
    {
      "cell_type": "code",
      "metadata": {
        "colab": {
          "base_uri": "https://localhost:8080/"
        },
        "id": "c6kHQEgdmhBO",
        "outputId": "bd225a76-bbbb-415b-f2a4-f036f9e9f63d"
      },
      "source": [
        "%ls\n",
        "%pwd\n",
        "%cd /content\n",
        "%ls"
      ],
      "execution_count": null,
      "outputs": [
        {
          "output_type": "stream",
          "text": [
            "adc.json  cherat-final-dataset.csv  \u001b[0m\u001b[01;34mdrive\u001b[0m/  \u001b[01;34msample_data\u001b[0m/\n",
            "/content\n",
            "adc.json  cherat-final-dataset.csv  \u001b[0m\u001b[01;34mdrive\u001b[0m/  \u001b[01;34msample_data\u001b[0m/\n"
          ],
          "name": "stdout"
        }
      ]
    },
    {
      "cell_type": "code",
      "metadata": {
        "colab": {
          "base_uri": "https://localhost:8080/"
        },
        "id": "3LR8-ZmIXkt7",
        "outputId": "1a7019d8-9b7c-4ab0-a5f7-22307603281f"
      },
      "source": [
        "%cd drive/"
      ],
      "execution_count": null,
      "outputs": [
        {
          "output_type": "stream",
          "text": [
            "/content/drive\n"
          ],
          "name": "stdout"
        }
      ]
    },
    {
      "cell_type": "code",
      "metadata": {
        "colab": {
          "base_uri": "https://localhost:8080/"
        },
        "id": "r6CiGuHFo2qh",
        "outputId": "2e4c1537-673f-48a3-bc7f-42fdf645d1e7"
      },
      "source": [
        "%cd MyDrive/"
      ],
      "execution_count": null,
      "outputs": [
        {
          "output_type": "stream",
          "text": [
            "/content/drive/MyDrive\n"
          ],
          "name": "stdout"
        }
      ]
    },
    {
      "cell_type": "code",
      "metadata": {
        "colab": {
          "base_uri": "https://localhost:8080/"
        },
        "id": "B7oyebgio-p3",
        "outputId": "cce2a0d5-22a7-4337-bc4b-e83760427738"
      },
      "source": [
        "%cd tensorboard/\n",
        "%cd model/\n",
        "%ls"
      ],
      "execution_count": null,
      "outputs": [
        {
          "output_type": "stream",
          "text": [
            "/content/drive/MyDrive/tensorboard\n",
            "/content/drive/MyDrive/tensorboard/model\n",
            " cherat-final-dataset.csv\n",
            " cherat_nn_model1.pt\n",
            " cherat_nn_model2.pt\n",
            " cherat_nn_model.pt\n",
            "'copy1 of steel_nn_model-30neurons- 900 epochs - lr0.001.pt'\n",
            "'copy of steel_nn_model-30neurons- 900 epochs - lr0.001.pt'\n",
            "'copy of steel_nn_model.pt'\n",
            "'final-copy1 of steel_nn_model-30neurons- 900 epochs - lr0.001.pt'\n",
            " internationalsteels-final-dataset.csv\n",
            " ogdc.csv\n",
            " ogdc_nn_model-final.pt\n",
            " ogdc_nn_model.pt\n",
            " \u001b[0m\u001b[01;34mruns\u001b[0m/\n",
            " steel_nn_model.pt\n"
          ],
          "name": "stdout"
        }
      ]
    },
    {
      "cell_type": "code",
      "metadata": {
        "id": "W2g99gk0BuxI",
        "colab": {
          "base_uri": "https://localhost:8080/"
        },
        "outputId": "cd09437a-5205-43e4-ef25-ae49b7bfb9f4"
      },
      "source": [
        "import pandas as pd\n",
        "import numpy as np\n",
        "import matplotlib.pyplot as plt\n",
        "import statsmodels.graphics.tsaplots as sgt\n",
        "\n",
        "\n",
        "import statsmodels.graphics.tsaplots as sgt\n",
        "#from sklearn import preprocessing\n",
        "\n",
        "from sklearn.preprocessing import StandardScaler\n",
        "\n",
        "import seaborn as sns\n",
        "import statsmodels.tsa.stattools as sts\n",
        "\n",
        "\n",
        "from statsmodels.tsa.stattools import adfuller\n",
        "# from pmdarima import auto_arima\n",
        "from statsmodels.tools.eval_measures import rmse    \n",
        "from statsmodels.tools.eval_measures import mse   \n",
        "from statsmodels.tsa.seasonal import seasonal_decompose\n",
        "\n",
        "import statsmodels.api as sm\n",
        "import torch\n",
        "import torch.nn as nn\n",
        "import seaborn as sns\n",
        "from sklearn.preprocessing import MinMaxScaler\n",
        "from torch.autograd import Variable   # A Variable wraps a Tensor. It supports nearly all the API’s defined by a Tensor. Variable also provides a backward method to perform backpropagation. For example, to backpropagate a loss function to train model parameter x, we use a variable loss to store the value computed by a loss function. Then, we call loss.backward which computes the gradients ∂loss∂x for all trainable parameters. PyTorch will store the gradient results back in the corresponding variable x.\n",
        "%matplotlib inline\n",
        "\n",
        "\n",
        "import warnings \n",
        "warnings.filterwarnings (\"ignore\")\n"
      ],
      "execution_count": null,
      "outputs": [
        {
          "output_type": "stream",
          "text": [
            "/usr/local/lib/python3.7/dist-packages/statsmodels/tools/_testing.py:19: FutureWarning: pandas.util.testing is deprecated. Use the functions in the public API at pandas.testing instead.\n",
            "  import pandas.util.testing as tm\n"
          ],
          "name": "stderr"
        }
      ]
    },
    {
      "cell_type": "code",
      "metadata": {
        "id": "APlG5pruL7XQ"
      },
      "source": [
        "df1 = pd.read_csv('cherat-final-dataset.csv')"
      ],
      "execution_count": null,
      "outputs": []
    },
    {
      "cell_type": "markdown",
      "metadata": {
        "id": "2rGh3tguBuxK"
      },
      "source": [
        "# Preprocessing #"
      ]
    },
    {
      "cell_type": "code",
      "metadata": {
        "id": "oKZz1nv6BuxK"
      },
      "source": [
        "def preprocessing(dataframe):\n",
        "    df = dataframe.iloc[::-1]\n",
        "    #df = df.drop(['Price', 'High', 'Low'], axis=1)\n",
        "    df['Date']= pd.to_datetime(df['Date'], format= '%d/%m/%Y')  # datetime conversion.........\n",
        "    df.set_index(\"Date\", inplace= True) # created date as an index\n",
        "    return df"
      ],
      "execution_count": null,
      "outputs": []
    },
    {
      "cell_type": "code",
      "metadata": {
        "id": "fHRHTGatBuxL"
      },
      "source": [
        "preprocessed_df = preprocessing(df1)"
      ],
      "execution_count": null,
      "outputs": []
    },
    {
      "cell_type": "code",
      "metadata": {
        "id": "rtQOnbFzBuxL"
      },
      "source": [
        "columns_names = ['Net_Margin', 'ROE', 'Quick_Ratio', 'Current_Ratio',\n",
        "       'Assets_Equity', 'Debt_Equity', 'A_RTurnover', 'AvgA_RDays',\n",
        "       'InvTurnover', 'EBITDATotAssetsTTM', 'ROATotAssets', 'HistMktCap',\n",
        "       'HistEV', 'GDPExports', 'Inflationgdp', 'moneysupply',\n",
        "       'treasures_bill', 'DollarRate_Open']\n",
        "\n",
        "interpolate_df = []\n",
        "for i in columns_names:\n",
        "    a = preprocessed_df[i].interpolate(method='time')\n",
        "#     plt.scatter(df.index, a,  alpha=0.5, color='red' )\n",
        "#     plt.scatter(df.index, i,  alpha=0.5, color='blue')\n",
        "    interpolate_df.append(a)\n",
        "\n",
        "interpolate_df = pd.DataFrame(interpolate_df).T\n",
        "df = pd.concat([preprocessed_df.Open, preprocessed_df.Vol,preprocessed_df.High,preprocessed_df.Low,preprocessed_df.Price, interpolate_df], axis = 1)"
      ],
      "execution_count": null,
      "outputs": []
    },
    {
      "cell_type": "code",
      "metadata": {
        "colab": {
          "base_uri": "https://localhost:8080/",
          "height": 630
        },
        "id": "DuTfKxcBwn9W",
        "outputId": "6a084a3a-653b-40a7-ba68-33499c0e4059"
      },
      "source": [
        "df"
      ],
      "execution_count": null,
      "outputs": [
        {
          "output_type": "execute_result",
          "data": {
            "text/html": [
              "<div>\n",
              "<style scoped>\n",
              "    .dataframe tbody tr th:only-of-type {\n",
              "        vertical-align: middle;\n",
              "    }\n",
              "\n",
              "    .dataframe tbody tr th {\n",
              "        vertical-align: top;\n",
              "    }\n",
              "\n",
              "    .dataframe thead th {\n",
              "        text-align: right;\n",
              "    }\n",
              "</style>\n",
              "<table border=\"1\" class=\"dataframe\">\n",
              "  <thead>\n",
              "    <tr style=\"text-align: right;\">\n",
              "      <th></th>\n",
              "      <th>Open</th>\n",
              "      <th>Vol</th>\n",
              "      <th>High</th>\n",
              "      <th>Low</th>\n",
              "      <th>Price</th>\n",
              "      <th>Net_Margin</th>\n",
              "      <th>ROE</th>\n",
              "      <th>Quick_Ratio</th>\n",
              "      <th>Current_Ratio</th>\n",
              "      <th>Assets_Equity</th>\n",
              "      <th>Debt_Equity</th>\n",
              "      <th>A_RTurnover</th>\n",
              "      <th>AvgA_RDays</th>\n",
              "      <th>InvTurnover</th>\n",
              "      <th>EBITDATotAssetsTTM</th>\n",
              "      <th>ROATotAssets</th>\n",
              "      <th>HistMktCap</th>\n",
              "      <th>HistEV</th>\n",
              "      <th>GDPExports</th>\n",
              "      <th>Inflationgdp</th>\n",
              "      <th>moneysupply</th>\n",
              "      <th>treasures_bill</th>\n",
              "      <th>DollarRate_Open</th>\n",
              "    </tr>\n",
              "    <tr>\n",
              "      <th>Date</th>\n",
              "      <th></th>\n",
              "      <th></th>\n",
              "      <th></th>\n",
              "      <th></th>\n",
              "      <th></th>\n",
              "      <th></th>\n",
              "      <th></th>\n",
              "      <th></th>\n",
              "      <th></th>\n",
              "      <th></th>\n",
              "      <th></th>\n",
              "      <th></th>\n",
              "      <th></th>\n",
              "      <th></th>\n",
              "      <th></th>\n",
              "      <th></th>\n",
              "      <th></th>\n",
              "      <th></th>\n",
              "      <th></th>\n",
              "      <th></th>\n",
              "      <th></th>\n",
              "      <th></th>\n",
              "      <th></th>\n",
              "    </tr>\n",
              "  </thead>\n",
              "  <tbody>\n",
              "    <tr>\n",
              "      <th>2010-01-01</th>\n",
              "      <td>7.78</td>\n",
              "      <td>690400</td>\n",
              "      <td>8.50</td>\n",
              "      <td>7.50</td>\n",
              "      <td>8.50</td>\n",
              "      <td>0.039000</td>\n",
              "      <td>0.190000</td>\n",
              "      <td>0.150000</td>\n",
              "      <td>1.250000</td>\n",
              "      <td>2.090000</td>\n",
              "      <td>0.780000</td>\n",
              "      <td>25.600000</td>\n",
              "      <td>3.600000</td>\n",
              "      <td>0.700000</td>\n",
              "      <td>0.124300</td>\n",
              "      <td>0.034900</td>\n",
              "      <td>-0.071400</td>\n",
              "      <td>-0.099000</td>\n",
              "      <td>2.595000</td>\n",
              "      <td>20.670000</td>\n",
              "      <td>0.442</td>\n",
              "      <td>11.90</td>\n",
              "      <td>84.450000</td>\n",
              "    </tr>\n",
              "    <tr>\n",
              "      <th>2010-02-01</th>\n",
              "      <td>8.56</td>\n",
              "      <td>574600</td>\n",
              "      <td>8.85</td>\n",
              "      <td>7.47</td>\n",
              "      <td>7.67</td>\n",
              "      <td>0.020610</td>\n",
              "      <td>0.091220</td>\n",
              "      <td>0.134237</td>\n",
              "      <td>1.176441</td>\n",
              "      <td>2.095254</td>\n",
              "      <td>0.811525</td>\n",
              "      <td>23.445763</td>\n",
              "      <td>3.915254</td>\n",
              "      <td>0.752542</td>\n",
              "      <td>0.111637</td>\n",
              "      <td>0.029751</td>\n",
              "      <td>0.032897</td>\n",
              "      <td>0.009237</td>\n",
              "      <td>1.838915</td>\n",
              "      <td>19.758563</td>\n",
              "      <td>0.068</td>\n",
              "      <td>12.22</td>\n",
              "      <td>85.200000</td>\n",
              "    </tr>\n",
              "    <tr>\n",
              "      <th>2010-03-01</th>\n",
              "      <td>7.48</td>\n",
              "      <td>1490000</td>\n",
              "      <td>7.50</td>\n",
              "      <td>6.28</td>\n",
              "      <td>7.06</td>\n",
              "      <td>0.004000</td>\n",
              "      <td>0.002000</td>\n",
              "      <td>0.120000</td>\n",
              "      <td>1.110000</td>\n",
              "      <td>2.100000</td>\n",
              "      <td>0.840000</td>\n",
              "      <td>21.500000</td>\n",
              "      <td>4.200000</td>\n",
              "      <td>0.800000</td>\n",
              "      <td>0.100200</td>\n",
              "      <td>0.025100</td>\n",
              "      <td>0.127100</td>\n",
              "      <td>0.107000</td>\n",
              "      <td>1.156000</td>\n",
              "      <td>18.935329</td>\n",
              "      <td>2.150</td>\n",
              "      <td>12.34</td>\n",
              "      <td>85.150000</td>\n",
              "    </tr>\n",
              "    <tr>\n",
              "      <th>2010-04-01</th>\n",
              "      <td>7.30</td>\n",
              "      <td>1440000</td>\n",
              "      <td>7.63</td>\n",
              "      <td>6.88</td>\n",
              "      <td>7.24</td>\n",
              "      <td>-0.029022</td>\n",
              "      <td>-0.008783</td>\n",
              "      <td>0.103152</td>\n",
              "      <td>1.035870</td>\n",
              "      <td>2.140435</td>\n",
              "      <td>0.890543</td>\n",
              "      <td>19.815217</td>\n",
              "      <td>4.638043</td>\n",
              "      <td>0.732609</td>\n",
              "      <td>0.087362</td>\n",
              "      <td>0.016878</td>\n",
              "      <td>0.024632</td>\n",
              "      <td>0.071855</td>\n",
              "      <td>-4.618087</td>\n",
              "      <td>18.023892</td>\n",
              "      <td>1.783</td>\n",
              "      <td>12.27</td>\n",
              "      <td>84.000000</td>\n",
              "    </tr>\n",
              "    <tr>\n",
              "      <th>2010-05-01</th>\n",
              "      <td>7.36</td>\n",
              "      <td>658000</td>\n",
              "      <td>7.48</td>\n",
              "      <td>5.70</td>\n",
              "      <td>5.87</td>\n",
              "      <td>-0.060978</td>\n",
              "      <td>-0.019217</td>\n",
              "      <td>0.086848</td>\n",
              "      <td>0.964130</td>\n",
              "      <td>2.179565</td>\n",
              "      <td>0.939457</td>\n",
              "      <td>18.184783</td>\n",
              "      <td>5.061957</td>\n",
              "      <td>0.667391</td>\n",
              "      <td>0.074938</td>\n",
              "      <td>0.008922</td>\n",
              "      <td>-0.074532</td>\n",
              "      <td>0.037845</td>\n",
              "      <td>-10.205913</td>\n",
              "      <td>17.141856</td>\n",
              "      <td>-1.011</td>\n",
              "      <td>12.09</td>\n",
              "      <td>84.000000</td>\n",
              "    </tr>\n",
              "    <tr>\n",
              "      <th>...</th>\n",
              "      <td>...</td>\n",
              "      <td>...</td>\n",
              "      <td>...</td>\n",
              "      <td>...</td>\n",
              "      <td>...</td>\n",
              "      <td>...</td>\n",
              "      <td>...</td>\n",
              "      <td>...</td>\n",
              "      <td>...</td>\n",
              "      <td>...</td>\n",
              "      <td>...</td>\n",
              "      <td>...</td>\n",
              "      <td>...</td>\n",
              "      <td>...</td>\n",
              "      <td>...</td>\n",
              "      <td>...</td>\n",
              "      <td>...</td>\n",
              "      <td>...</td>\n",
              "      <td>...</td>\n",
              "      <td>...</td>\n",
              "      <td>...</td>\n",
              "      <td>...</td>\n",
              "      <td>...</td>\n",
              "    </tr>\n",
              "    <tr>\n",
              "      <th>2020-02-01</th>\n",
              "      <td>57.80</td>\n",
              "      <td>31500000</td>\n",
              "      <td>57.80</td>\n",
              "      <td>49.00</td>\n",
              "      <td>56.95</td>\n",
              "      <td>-0.084923</td>\n",
              "      <td>-0.032505</td>\n",
              "      <td>0.451429</td>\n",
              "      <td>1.255495</td>\n",
              "      <td>2.965934</td>\n",
              "      <td>1.736374</td>\n",
              "      <td>1.568132</td>\n",
              "      <td>56.825275</td>\n",
              "      <td>0.900000</td>\n",
              "      <td>0.105153</td>\n",
              "      <td>0.037725</td>\n",
              "      <td>-0.222818</td>\n",
              "      <td>-0.088673</td>\n",
              "      <td>-7.223484</td>\n",
              "      <td>8.616612</td>\n",
              "      <td>1.155</td>\n",
              "      <td>13.34</td>\n",
              "      <td>160.555041</td>\n",
              "    </tr>\n",
              "    <tr>\n",
              "      <th>2020-03-01</th>\n",
              "      <td>58.50</td>\n",
              "      <td>4060000</td>\n",
              "      <td>88.12</td>\n",
              "      <td>43.00</td>\n",
              "      <td>55.59</td>\n",
              "      <td>-0.076000</td>\n",
              "      <td>-0.029000</td>\n",
              "      <td>0.410000</td>\n",
              "      <td>1.230000</td>\n",
              "      <td>2.950000</td>\n",
              "      <td>1.730000</td>\n",
              "      <td>1.600000</td>\n",
              "      <td>55.200000</td>\n",
              "      <td>0.900000</td>\n",
              "      <td>0.103400</td>\n",
              "      <td>0.030300</td>\n",
              "      <td>-0.089800</td>\n",
              "      <td>-0.054000</td>\n",
              "      <td>-7.785000</td>\n",
              "      <td>8.615027</td>\n",
              "      <td>-4.711</td>\n",
              "      <td>11.19</td>\n",
              "      <td>162.180000</td>\n",
              "    </tr>\n",
              "    <tr>\n",
              "      <th>2020-04-01</th>\n",
              "      <td>55.26</td>\n",
              "      <td>2110000</td>\n",
              "      <td>98.50</td>\n",
              "      <td>53.31</td>\n",
              "      <td>89.85</td>\n",
              "      <td>-0.065217</td>\n",
              "      <td>-0.025967</td>\n",
              "      <td>0.396522</td>\n",
              "      <td>1.230000</td>\n",
              "      <td>2.960109</td>\n",
              "      <td>1.726630</td>\n",
              "      <td>1.903261</td>\n",
              "      <td>49.033696</td>\n",
              "      <td>0.933696</td>\n",
              "      <td>0.101917</td>\n",
              "      <td>0.021842</td>\n",
              "      <td>0.301272</td>\n",
              "      <td>0.030441</td>\n",
              "      <td>-15.866228</td>\n",
              "      <td>8.613333</td>\n",
              "      <td>5.406</td>\n",
              "      <td>7.88</td>\n",
              "      <td>163.770435</td>\n",
              "    </tr>\n",
              "    <tr>\n",
              "      <th>2020-05-01</th>\n",
              "      <td>90.80</td>\n",
              "      <td>1380000</td>\n",
              "      <td>96.00</td>\n",
              "      <td>78.80</td>\n",
              "      <td>86.62</td>\n",
              "      <td>-0.054783</td>\n",
              "      <td>-0.023033</td>\n",
              "      <td>0.383478</td>\n",
              "      <td>1.230000</td>\n",
              "      <td>2.969891</td>\n",
              "      <td>1.723370</td>\n",
              "      <td>2.196739</td>\n",
              "      <td>43.066304</td>\n",
              "      <td>0.966304</td>\n",
              "      <td>0.100483</td>\n",
              "      <td>0.013658</td>\n",
              "      <td>0.679728</td>\n",
              "      <td>0.112159</td>\n",
              "      <td>-23.686772</td>\n",
              "      <td>8.611694</td>\n",
              "      <td>0.573</td>\n",
              "      <td>7.75</td>\n",
              "      <td>165.309565</td>\n",
              "    </tr>\n",
              "    <tr>\n",
              "      <th>2020-06-01</th>\n",
              "      <td>87.05</td>\n",
              "      <td>842500</td>\n",
              "      <td>89.50</td>\n",
              "      <td>81.99</td>\n",
              "      <td>87.50</td>\n",
              "      <td>-0.044000</td>\n",
              "      <td>-0.020000</td>\n",
              "      <td>0.370000</td>\n",
              "      <td>1.230000</td>\n",
              "      <td>2.980000</td>\n",
              "      <td>1.720000</td>\n",
              "      <td>2.500000</td>\n",
              "      <td>36.900000</td>\n",
              "      <td>1.000000</td>\n",
              "      <td>0.099000</td>\n",
              "      <td>0.005200</td>\n",
              "      <td>1.070800</td>\n",
              "      <td>0.196600</td>\n",
              "      <td>-31.768000</td>\n",
              "      <td>8.610000</td>\n",
              "      <td>-1.741</td>\n",
              "      <td>7.48</td>\n",
              "      <td>166.900000</td>\n",
              "    </tr>\n",
              "  </tbody>\n",
              "</table>\n",
              "<p>126 rows × 23 columns</p>\n",
              "</div>"
            ],
            "text/plain": [
              "             Open       Vol  ...  treasures_bill  DollarRate_Open\n",
              "Date                         ...                                 \n",
              "2010-01-01   7.78    690400  ...           11.90        84.450000\n",
              "2010-02-01   8.56    574600  ...           12.22        85.200000\n",
              "2010-03-01   7.48   1490000  ...           12.34        85.150000\n",
              "2010-04-01   7.30   1440000  ...           12.27        84.000000\n",
              "2010-05-01   7.36    658000  ...           12.09        84.000000\n",
              "...           ...       ...  ...             ...              ...\n",
              "2020-02-01  57.80  31500000  ...           13.34       160.555041\n",
              "2020-03-01  58.50   4060000  ...           11.19       162.180000\n",
              "2020-04-01  55.26   2110000  ...            7.88       163.770435\n",
              "2020-05-01  90.80   1380000  ...            7.75       165.309565\n",
              "2020-06-01  87.05    842500  ...            7.48       166.900000\n",
              "\n",
              "[126 rows x 23 columns]"
            ]
          },
          "metadata": {
            "tags": []
          },
          "execution_count": 10
        }
      ]
    },
    {
      "cell_type": "code",
      "metadata": {
        "id": "IG4w07T_1lcv"
      },
      "source": [
        " df = df.drop(['Net_Margin','Quick_Ratio','Current_Ratio','Assets_Equity','Debt_Equity','A_RTurnover','AvgA_RDays','HistMktCap'], axis=1)"
      ],
      "execution_count": null,
      "outputs": []
    },
    {
      "cell_type": "code",
      "metadata": {
        "colab": {
          "base_uri": "https://localhost:8080/"
        },
        "id": "ZwaPgJbGBuxM",
        "outputId": "c56fa630-031b-45d4-d030-2af83e445800"
      },
      "source": [
        "df.Open.min()"
      ],
      "execution_count": null,
      "outputs": [
        {
          "output_type": "execute_result",
          "data": {
            "text/plain": [
              "4.42"
            ]
          },
          "metadata": {
            "tags": []
          },
          "execution_count": 1377
        }
      ]
    },
    {
      "cell_type": "code",
      "metadata": {
        "colab": {
          "base_uri": "https://localhost:8080/"
        },
        "id": "h9yhefeEc0eC",
        "outputId": "e175ccb4-14d7-4427-eff1-bcf526944b59"
      },
      "source": [
        "df.Open.max()"
      ],
      "execution_count": null,
      "outputs": [
        {
          "output_type": "execute_result",
          "data": {
            "text/plain": [
              "181.82"
            ]
          },
          "metadata": {
            "tags": []
          },
          "execution_count": 1378
        }
      ]
    },
    {
      "cell_type": "markdown",
      "metadata": {
        "id": "PowpnoJVb69x"
      },
      "source": [
        "# How useful are our features for prediction?"
      ]
    },
    {
      "cell_type": "code",
      "metadata": {
        "id": "csMEJ2YucBSH"
      },
      "source": [
        "# Adjusted R-squared is the answer. It tells us how good our features explain the variation in our label"
      ],
      "execution_count": null,
      "outputs": []
    },
    {
      "cell_type": "code",
      "metadata": {
        "colab": {
          "base_uri": "https://localhost:8080/",
          "height": 571
        },
        "id": "yRQLthXhcBOL",
        "outputId": "238d6a37-1c97-4870-e47c-730e1608bddd"
      },
      "source": [
        "#create a new dataframe to model the difference\n",
        "df_diff = df.copy()#add previous sales to the next row\n",
        "df_diff['prev_Open'] = df_diff['Open'].shift(1)#drop the null values and calculate the difference\n",
        "df_diff = df_diff.dropna()\n",
        "df_diff['diff'] = (df_diff['Open'] - df_diff['prev_Open'])\n",
        "df_diff.head(10)"
      ],
      "execution_count": null,
      "outputs": [
        {
          "output_type": "execute_result",
          "data": {
            "text/html": [
              "<div>\n",
              "<style scoped>\n",
              "    .dataframe tbody tr th:only-of-type {\n",
              "        vertical-align: middle;\n",
              "    }\n",
              "\n",
              "    .dataframe tbody tr th {\n",
              "        vertical-align: top;\n",
              "    }\n",
              "\n",
              "    .dataframe thead th {\n",
              "        text-align: right;\n",
              "    }\n",
              "</style>\n",
              "<table border=\"1\" class=\"dataframe\">\n",
              "  <thead>\n",
              "    <tr style=\"text-align: right;\">\n",
              "      <th></th>\n",
              "      <th>Open</th>\n",
              "      <th>Vol</th>\n",
              "      <th>High</th>\n",
              "      <th>Low</th>\n",
              "      <th>Price</th>\n",
              "      <th>Net_Margin</th>\n",
              "      <th>ROE</th>\n",
              "      <th>Quick_Ratio</th>\n",
              "      <th>Current_Ratio</th>\n",
              "      <th>Assets_Equity</th>\n",
              "      <th>Debt_Equity</th>\n",
              "      <th>A_RTurnover</th>\n",
              "      <th>AvgA_RDays</th>\n",
              "      <th>InvTurnover</th>\n",
              "      <th>EBITDATotAssetsTTM</th>\n",
              "      <th>ROATotAssets</th>\n",
              "      <th>HistMktCap</th>\n",
              "      <th>HistEV</th>\n",
              "      <th>GDPExports</th>\n",
              "      <th>Inflationgdp</th>\n",
              "      <th>moneysupply</th>\n",
              "      <th>treasures_bill</th>\n",
              "      <th>DollarRate_Open</th>\n",
              "      <th>prev_Open</th>\n",
              "      <th>diff</th>\n",
              "    </tr>\n",
              "    <tr>\n",
              "      <th>Date</th>\n",
              "      <th></th>\n",
              "      <th></th>\n",
              "      <th></th>\n",
              "      <th></th>\n",
              "      <th></th>\n",
              "      <th></th>\n",
              "      <th></th>\n",
              "      <th></th>\n",
              "      <th></th>\n",
              "      <th></th>\n",
              "      <th></th>\n",
              "      <th></th>\n",
              "      <th></th>\n",
              "      <th></th>\n",
              "      <th></th>\n",
              "      <th></th>\n",
              "      <th></th>\n",
              "      <th></th>\n",
              "      <th></th>\n",
              "      <th></th>\n",
              "      <th></th>\n",
              "      <th></th>\n",
              "      <th></th>\n",
              "      <th></th>\n",
              "      <th></th>\n",
              "    </tr>\n",
              "  </thead>\n",
              "  <tbody>\n",
              "    <tr>\n",
              "      <th>2010-02-01</th>\n",
              "      <td>8.56</td>\n",
              "      <td>574600</td>\n",
              "      <td>8.85</td>\n",
              "      <td>7.47</td>\n",
              "      <td>7.67</td>\n",
              "      <td>0.020610</td>\n",
              "      <td>0.091220</td>\n",
              "      <td>0.134237</td>\n",
              "      <td>1.176441</td>\n",
              "      <td>2.095254</td>\n",
              "      <td>0.811525</td>\n",
              "      <td>23.445763</td>\n",
              "      <td>3.915254</td>\n",
              "      <td>0.752542</td>\n",
              "      <td>0.111637</td>\n",
              "      <td>0.029751</td>\n",
              "      <td>0.032897</td>\n",
              "      <td>0.009237</td>\n",
              "      <td>1.838915</td>\n",
              "      <td>19.758563</td>\n",
              "      <td>0.068</td>\n",
              "      <td>12.22</td>\n",
              "      <td>85.20</td>\n",
              "      <td>7.78</td>\n",
              "      <td>0.78</td>\n",
              "    </tr>\n",
              "    <tr>\n",
              "      <th>2010-03-01</th>\n",
              "      <td>7.48</td>\n",
              "      <td>1490000</td>\n",
              "      <td>7.50</td>\n",
              "      <td>6.28</td>\n",
              "      <td>7.06</td>\n",
              "      <td>0.004000</td>\n",
              "      <td>0.002000</td>\n",
              "      <td>0.120000</td>\n",
              "      <td>1.110000</td>\n",
              "      <td>2.100000</td>\n",
              "      <td>0.840000</td>\n",
              "      <td>21.500000</td>\n",
              "      <td>4.200000</td>\n",
              "      <td>0.800000</td>\n",
              "      <td>0.100200</td>\n",
              "      <td>0.025100</td>\n",
              "      <td>0.127100</td>\n",
              "      <td>0.107000</td>\n",
              "      <td>1.156000</td>\n",
              "      <td>18.935329</td>\n",
              "      <td>2.150</td>\n",
              "      <td>12.34</td>\n",
              "      <td>85.15</td>\n",
              "      <td>8.56</td>\n",
              "      <td>-1.08</td>\n",
              "    </tr>\n",
              "    <tr>\n",
              "      <th>2010-04-01</th>\n",
              "      <td>7.30</td>\n",
              "      <td>1440000</td>\n",
              "      <td>7.63</td>\n",
              "      <td>6.88</td>\n",
              "      <td>7.24</td>\n",
              "      <td>-0.029022</td>\n",
              "      <td>-0.008783</td>\n",
              "      <td>0.103152</td>\n",
              "      <td>1.035870</td>\n",
              "      <td>2.140435</td>\n",
              "      <td>0.890543</td>\n",
              "      <td>19.815217</td>\n",
              "      <td>4.638043</td>\n",
              "      <td>0.732609</td>\n",
              "      <td>0.087362</td>\n",
              "      <td>0.016878</td>\n",
              "      <td>0.024632</td>\n",
              "      <td>0.071855</td>\n",
              "      <td>-4.618087</td>\n",
              "      <td>18.023892</td>\n",
              "      <td>1.783</td>\n",
              "      <td>12.27</td>\n",
              "      <td>84.00</td>\n",
              "      <td>7.48</td>\n",
              "      <td>-0.18</td>\n",
              "    </tr>\n",
              "    <tr>\n",
              "      <th>2010-05-01</th>\n",
              "      <td>7.36</td>\n",
              "      <td>658000</td>\n",
              "      <td>7.48</td>\n",
              "      <td>5.70</td>\n",
              "      <td>5.87</td>\n",
              "      <td>-0.060978</td>\n",
              "      <td>-0.019217</td>\n",
              "      <td>0.086848</td>\n",
              "      <td>0.964130</td>\n",
              "      <td>2.179565</td>\n",
              "      <td>0.939457</td>\n",
              "      <td>18.184783</td>\n",
              "      <td>5.061957</td>\n",
              "      <td>0.667391</td>\n",
              "      <td>0.074938</td>\n",
              "      <td>0.008922</td>\n",
              "      <td>-0.074532</td>\n",
              "      <td>0.037845</td>\n",
              "      <td>-10.205913</td>\n",
              "      <td>17.141856</td>\n",
              "      <td>-1.011</td>\n",
              "      <td>12.09</td>\n",
              "      <td>84.00</td>\n",
              "      <td>7.30</td>\n",
              "      <td>0.06</td>\n",
              "    </tr>\n",
              "    <tr>\n",
              "      <th>2010-06-01</th>\n",
              "      <td>5.87</td>\n",
              "      <td>1340000</td>\n",
              "      <td>6.79</td>\n",
              "      <td>5.40</td>\n",
              "      <td>5.60</td>\n",
              "      <td>-0.094000</td>\n",
              "      <td>-0.030000</td>\n",
              "      <td>0.070000</td>\n",
              "      <td>0.890000</td>\n",
              "      <td>2.220000</td>\n",
              "      <td>0.990000</td>\n",
              "      <td>16.500000</td>\n",
              "      <td>5.500000</td>\n",
              "      <td>0.600000</td>\n",
              "      <td>0.062100</td>\n",
              "      <td>0.000700</td>\n",
              "      <td>-0.177000</td>\n",
              "      <td>0.002700</td>\n",
              "      <td>-15.980000</td>\n",
              "      <td>16.230419</td>\n",
              "      <td>0.464</td>\n",
              "      <td>12.27</td>\n",
              "      <td>85.10</td>\n",
              "      <td>7.36</td>\n",
              "      <td>-1.49</td>\n",
              "    </tr>\n",
              "    <tr>\n",
              "      <th>2010-07-01</th>\n",
              "      <td>5.69</td>\n",
              "      <td>248500</td>\n",
              "      <td>6.58</td>\n",
              "      <td>5.39</td>\n",
              "      <td>5.98</td>\n",
              "      <td>-0.096935</td>\n",
              "      <td>-0.033261</td>\n",
              "      <td>0.066739</td>\n",
              "      <td>0.863913</td>\n",
              "      <td>2.278696</td>\n",
              "      <td>1.012826</td>\n",
              "      <td>29.739130</td>\n",
              "      <td>4.228261</td>\n",
              "      <td>0.632609</td>\n",
              "      <td>0.051828</td>\n",
              "      <td>-0.006604</td>\n",
              "      <td>-0.138783</td>\n",
              "      <td>0.000189</td>\n",
              "      <td>-6.973478</td>\n",
              "      <td>15.348383</td>\n",
              "      <td>0.991</td>\n",
              "      <td>12.33</td>\n",
              "      <td>85.50</td>\n",
              "      <td>5.87</td>\n",
              "      <td>-0.18</td>\n",
              "    </tr>\n",
              "    <tr>\n",
              "      <th>2010-08-01</th>\n",
              "      <td>6.43</td>\n",
              "      <td>1160000</td>\n",
              "      <td>7.18</td>\n",
              "      <td>5.33</td>\n",
              "      <td>6.64</td>\n",
              "      <td>-0.099967</td>\n",
              "      <td>-0.036630</td>\n",
              "      <td>0.063370</td>\n",
              "      <td>0.836957</td>\n",
              "      <td>2.339348</td>\n",
              "      <td>1.036413</td>\n",
              "      <td>43.419565</td>\n",
              "      <td>2.914130</td>\n",
              "      <td>0.666304</td>\n",
              "      <td>0.041214</td>\n",
              "      <td>-0.014152</td>\n",
              "      <td>-0.099291</td>\n",
              "      <td>-0.002405</td>\n",
              "      <td>2.333261</td>\n",
              "      <td>14.436946</td>\n",
              "      <td>0.584</td>\n",
              "      <td>12.65</td>\n",
              "      <td>85.20</td>\n",
              "      <td>5.69</td>\n",
              "      <td>0.74</td>\n",
              "    </tr>\n",
              "    <tr>\n",
              "      <th>2010-09-01</th>\n",
              "      <td>6.58</td>\n",
              "      <td>413400</td>\n",
              "      <td>7.48</td>\n",
              "      <td>6.10</td>\n",
              "      <td>6.58</td>\n",
              "      <td>-0.103000</td>\n",
              "      <td>-0.040000</td>\n",
              "      <td>0.060000</td>\n",
              "      <td>0.810000</td>\n",
              "      <td>2.400000</td>\n",
              "      <td>1.060000</td>\n",
              "      <td>57.100000</td>\n",
              "      <td>1.600000</td>\n",
              "      <td>0.700000</td>\n",
              "      <td>0.030600</td>\n",
              "      <td>-0.021700</td>\n",
              "      <td>-0.059800</td>\n",
              "      <td>-0.005000</td>\n",
              "      <td>11.640000</td>\n",
              "      <td>13.525509</td>\n",
              "      <td>1.166</td>\n",
              "      <td>12.82</td>\n",
              "      <td>85.40</td>\n",
              "      <td>6.43</td>\n",
              "      <td>0.15</td>\n",
              "    </tr>\n",
              "    <tr>\n",
              "      <th>2010-10-01</th>\n",
              "      <td>6.52</td>\n",
              "      <td>1340000</td>\n",
              "      <td>7.43</td>\n",
              "      <td>5.69</td>\n",
              "      <td>7.15</td>\n",
              "      <td>-0.022890</td>\n",
              "      <td>-0.006374</td>\n",
              "      <td>0.063297</td>\n",
              "      <td>0.793516</td>\n",
              "      <td>2.320879</td>\n",
              "      <td>1.033626</td>\n",
              "      <td>58.023077</td>\n",
              "      <td>1.567033</td>\n",
              "      <td>0.700000</td>\n",
              "      <td>0.026248</td>\n",
              "      <td>-0.015502</td>\n",
              "      <td>-0.112152</td>\n",
              "      <td>-0.031374</td>\n",
              "      <td>7.925934</td>\n",
              "      <td>12.643473</td>\n",
              "      <td>1.441</td>\n",
              "      <td>13.08</td>\n",
              "      <td>86.25</td>\n",
              "      <td>6.58</td>\n",
              "      <td>-0.06</td>\n",
              "    </tr>\n",
              "    <tr>\n",
              "      <th>2010-11-01</th>\n",
              "      <td>6.73</td>\n",
              "      <td>1280000</td>\n",
              "      <td>7.63</td>\n",
              "      <td>6.43</td>\n",
              "      <td>7.18</td>\n",
              "      <td>0.059890</td>\n",
              "      <td>0.028374</td>\n",
              "      <td>0.066703</td>\n",
              "      <td>0.776484</td>\n",
              "      <td>2.239121</td>\n",
              "      <td>1.006374</td>\n",
              "      <td>58.976923</td>\n",
              "      <td>1.532967</td>\n",
              "      <td>0.700000</td>\n",
              "      <td>0.021752</td>\n",
              "      <td>-0.009098</td>\n",
              "      <td>-0.166248</td>\n",
              "      <td>-0.058626</td>\n",
              "      <td>4.088066</td>\n",
              "      <td>11.732036</td>\n",
              "      <td>2.593</td>\n",
              "      <td>13.18</td>\n",
              "      <td>85.82</td>\n",
              "      <td>6.52</td>\n",
              "      <td>0.21</td>\n",
              "    </tr>\n",
              "  </tbody>\n",
              "</table>\n",
              "</div>"
            ],
            "text/plain": [
              "            Open      Vol  High  ...  DollarRate_Open  prev_Open  diff\n",
              "Date                             ...                                  \n",
              "2010-02-01  8.56   574600  8.85  ...            85.20       7.78  0.78\n",
              "2010-03-01  7.48  1490000  7.50  ...            85.15       8.56 -1.08\n",
              "2010-04-01  7.30  1440000  7.63  ...            84.00       7.48 -0.18\n",
              "2010-05-01  7.36   658000  7.48  ...            84.00       7.30  0.06\n",
              "2010-06-01  5.87  1340000  6.79  ...            85.10       7.36 -1.49\n",
              "2010-07-01  5.69   248500  6.58  ...            85.50       5.87 -0.18\n",
              "2010-08-01  6.43  1160000  7.18  ...            85.20       5.69  0.74\n",
              "2010-09-01  6.58   413400  7.48  ...            85.40       6.43  0.15\n",
              "2010-10-01  6.52  1340000  7.43  ...            86.25       6.58 -0.06\n",
              "2010-11-01  6.73  1280000  7.63  ...            85.82       6.52  0.21\n",
              "\n",
              "[10 rows x 25 columns]"
            ]
          },
          "metadata": {
            "tags": []
          },
          "execution_count": 24
        }
      ]
    },
    {
      "cell_type": "code",
      "metadata": {
        "id": "7k6yuAnQcBJs"
      },
      "source": [
        "13.# Import statsmodels.formula.api\n",
        "import statsmodels.formula.api as smf"
      ],
      "execution_count": null,
      "outputs": []
    },
    {
      "cell_type": "code",
      "metadata": {
        "id": "4YeUjUtPcBFV"
      },
      "source": [
        "# Define the regression formula\n",
        "model = smf.ols(formula='diff ~  Open + Price + High + Low + Vol + Net_Margin + ROE + Quick_Ratio + Current_Ratio + Assets_Equity + Debt_Equity +  A_RTurnover + AvgA_RDays + InvTurnover + EBITDATotAssetsTTM + ROATotAssets + HistMktCap + HistEV + GDPExports + Inflationgdp + moneysupply + treasures_bill + DollarRate_Open', data=df_diff)"
      ],
      "execution_count": null,
      "outputs": []
    },
    {
      "cell_type": "code",
      "metadata": {
        "id": "5FT75plQcBAM"
      },
      "source": [
        "# Fit the regression\n",
        "model_fit = model.fit()"
      ],
      "execution_count": null,
      "outputs": []
    },
    {
      "cell_type": "code",
      "metadata": {
        "colab": {
          "base_uri": "https://localhost:8080/"
        },
        "id": "HG4U0Tg8cbwW",
        "outputId": "5ebe5f5f-4465-4bed-9f3b-806192dec140"
      },
      "source": [
        "# Extract the adjusted r-squared\n",
        "regression_adj_rsq = model_fit.rsquared_adj\n",
        "print(regression_adj_rsq)"
      ],
      "execution_count": null,
      "outputs": [
        {
          "output_type": "stream",
          "text": [
            "0.15554278794519438\n"
          ],
          "name": "stdout"
        }
      ]
    },
    {
      "cell_type": "code",
      "metadata": {
        "colab": {
          "base_uri": "https://localhost:8080/"
        },
        "id": "_UIMgmX-1n2_",
        "outputId": "d91b2006-dbec-48ac-91d3-8da36895aa57"
      },
      "source": [
        "df_diff.columns.values"
      ],
      "execution_count": null,
      "outputs": [
        {
          "output_type": "execute_result",
          "data": {
            "text/plain": [
              "array(['Open', 'Vol', 'High', 'Low', 'Price', 'Net_Margin', 'ROE',\n",
              "       'Quick_Ratio', 'Current_Ratio', 'Assets_Equity', 'Debt_Equity',\n",
              "       'A_RTurnover', 'AvgA_RDays', 'InvTurnover', 'EBITDATotAssetsTTM',\n",
              "       'ROATotAssets', 'HistMktCap', 'HistEV', 'GDPExports',\n",
              "       'Inflationgdp', 'moneysupply', 'treasures_bill', 'DollarRate_Open',\n",
              "       'prev_Open', 'diff'], dtype=object)"
            ]
          },
          "metadata": {
            "tags": []
          },
          "execution_count": 19
        }
      ]
    },
    {
      "cell_type": "markdown",
      "metadata": {
        "id": "v1cviFV4BuxW"
      },
      "source": [
        "# Splitting Dataset"
      ]
    },
    {
      "cell_type": "code",
      "metadata": {
        "id": "lFPR5UR_wTu2"
      },
      "source": [
        "# from sklearn.model_selection import TimeSeriesSplit\n",
        "# kf = KFold(n_splits=10)\n",
        "# kf"
      ],
      "execution_count": null,
      "outputs": []
    },
    {
      "cell_type": "code",
      "metadata": {
        "id": "SduYkE0R2Es6"
      },
      "source": [
        "# tscv = TimeSeriesSplit(max_train_size=None, n_splits=10)"
      ],
      "execution_count": null,
      "outputs": []
    },
    {
      "cell_type": "code",
      "metadata": {
        "id": "cVvhKoku1_ge"
      },
      "source": [
        "# for train_index, test_index in tscv.split(X):"
      ],
      "execution_count": null,
      "outputs": []
    },
    {
      "cell_type": "code",
      "metadata": {
        "id": "pMClqJp0wWyq"
      },
      "source": [
        "# for train_index, test_index in kf.split(df):\n",
        "#   print(train_index, test_index)"
      ],
      "execution_count": null,
      "outputs": []
    },
    {
      "cell_type": "code",
      "metadata": {
        "id": "h7YRr0CLyHlX"
      },
      "source": [
        "# train_index"
      ],
      "execution_count": null,
      "outputs": []
    },
    {
      "cell_type": "code",
      "metadata": {
        "id": "87jXGsF6BuxW"
      },
      "source": [
        "X = df.iloc[:, 0:15] \n",
        "y = df.iloc[:, :+1]"
      ],
      "execution_count": null,
      "outputs": []
    },
    {
      "cell_type": "markdown",
      "metadata": {
        "id": "MoRtxtkNBuxX"
      },
      "source": [
        "# Scaling the Data"
      ]
    },
    {
      "cell_type": "code",
      "metadata": {
        "id": "qKrE3AZ4BuxX"
      },
      "source": [
        "from sklearn.preprocessing import StandardScaler\n",
        "\n",
        "\n",
        "ss = StandardScaler() ### make the data set normally distributed \n",
        "\n",
        "\n",
        "X_ss = ss.fit_transform(X)\n",
        "y_mm = ss.fit_transform(y) "
      ],
      "execution_count": null,
      "outputs": []
    },
    {
      "cell_type": "code",
      "metadata": {
        "id": "DUk3_4_LBuxY"
      },
      "source": [
        "#first 101 for training\n",
        "\n",
        "X_train = X_ss[:101, :]   ### 101 values\n",
        "X_test = X_ss[101:, :]    ### 25 values\n",
        "\n",
        "y_train = y_mm[:101, :]  ### 101 values\n",
        "y_test = y_mm[101:, :]   ### 25 values"
      ],
      "execution_count": null,
      "outputs": []
    },
    {
      "cell_type": "code",
      "metadata": {
        "colab": {
          "base_uri": "https://localhost:8080/"
        },
        "id": "jcS2MWuIBuxY",
        "outputId": "03be7dd5-b7e0-4761-d9ae-358897896114"
      },
      "source": [
        "print(\"Training Shape\", X_train.shape, y_train.shape)\n",
        "print(\"Testing Shape\", X_test.shape, y_test.shape) "
      ],
      "execution_count": null,
      "outputs": [
        {
          "output_type": "stream",
          "text": [
            "Training Shape (101, 15) (101, 1)\n",
            "Testing Shape (25, 15) (25, 1)\n"
          ],
          "name": "stdout"
        }
      ]
    },
    {
      "cell_type": "code",
      "metadata": {
        "id": "dog5uepOBuxa"
      },
      "source": [
        "X_train_tensors = Variable(torch.Tensor(X_train))\n",
        "X_test_tensors = Variable(torch.Tensor(X_test))\n",
        "\n",
        "y_train_tensors = Variable(torch.Tensor(y_train))\n",
        "y_test_tensors = Variable(torch.Tensor(y_test)) "
      ],
      "execution_count": null,
      "outputs": []
    },
    {
      "cell_type": "code",
      "metadata": {
        "id": "yDqTIJ7EBuxa"
      },
      "source": [
        "# Now the next step is to check the input format of an LSTM. This means that since LSTM is specially built for sequential data, it can not take in simple 2-D data as input. They need to have the timestamp information with them too, as we discussed that we need to have input at each timestamp. So let’s convert the dataset."
      ],
      "execution_count": null,
      "outputs": []
    },
    {
      "cell_type": "code",
      "metadata": {
        "id": "MfXXUXIcBuxa"
      },
      "source": [
        "#reshaping to rows, timestamps, features\n",
        "\n",
        "X_train_tensors_final = torch.reshape(X_train_tensors,   (X_train_tensors.shape[0], 1, X_train_tensors.shape[1]))\n",
        "\n",
        "\n",
        "X_test_tensors_final = torch.reshape(X_test_tensors,  (X_test_tensors.shape[0], 1, X_test_tensors.shape[1])) "
      ],
      "execution_count": null,
      "outputs": []
    },
    {
      "cell_type": "code",
      "metadata": {
        "colab": {
          "base_uri": "https://localhost:8080/"
        },
        "id": "qUZ-siRgBuxb",
        "outputId": "64dd39a8-e3c9-496e-bde9-07733fa2df75"
      },
      "source": [
        "print(\"Training Shape\", X_train_tensors_final.shape, y_train_tensors.shape)\n",
        "print(\"Testing Shape\", X_test_tensors_final.shape, y_test_tensors.shape) "
      ],
      "execution_count": null,
      "outputs": [
        {
          "output_type": "stream",
          "text": [
            "Training Shape torch.Size([101, 1, 15]) torch.Size([101, 1])\n",
            "Testing Shape torch.Size([25, 1, 15]) torch.Size([25, 1])\n"
          ],
          "name": "stdout"
        }
      ]
    },
    {
      "cell_type": "code",
      "metadata": {
        "id": "tUM_H6UXBuxc"
      },
      "source": [
        "# Next we are going to use 2 LSTM layers with the same hyperparameters stacked over each other (via hidden_size), you have defined the 2 Fully Connected layers, the ReLU layer, and some helper variables. Next, you are going to define the forward pass of the LSTM."
      ],
      "execution_count": null,
      "outputs": []
    },
    {
      "cell_type": "code",
      "metadata": {
        "id": "gihElxZlBuxc"
      },
      "source": [
        "torch.manual_seed(1)\n",
        "\n",
        "#Final model\n",
        "\n",
        "class LSTM1(nn.Module):\n",
        "    def __init__(self, num_classes, input_size, hidden_size, num_layers, seq_length):\n",
        "        super(LSTM1, self).__init__()\n",
        "        self.num_classes = num_classes #number of classes # \n",
        "        self.num_layers = num_layers #number of layers # vertical side \n",
        "        self.input_size = input_size #input size\n",
        "        self.hidden_size = hidden_size #hidden state # horizontal side # short term memory \n",
        "        self.seq_length = seq_length #sequence length\n",
        "\n",
        "        \n",
        "        \n",
        "        self.lstm = nn.LSTM(input_size=input_size, hidden_size=hidden_size,\n",
        "                          num_layers=num_layers, batch_first=True) #lstm    #If our input data is of shape (batch_size, seq_len, features) then you need batch_first=True and your LSTM will give output of shape (batch_size, seq_len, hidden_size).\n",
        "        self.fc_1 =  nn.Linear(hidden_size, 40) #fully connected 1\n",
        "\n",
        "        self.fc = nn.Linear(40, num_classes) #fully connected last layer\n",
        "\n",
        "        self.silu = nn.SiLU()\n",
        "    \n",
        "    def forward(self,x):\n",
        "        h_0 = Variable(torch.zeros(self.num_layers, x.size(0), self.hidden_size)) #hidden state # according to hidden size if hidden size is 2 will print [0., 0.] in every loss print 101 values in each tensor.\n",
        "        torch.set_printoptions(profile=\"full\")\n",
        "        #print(h_0)  ## in each \n",
        "        c_0 = Variable(torch.zeros(self.num_layers, x.size(0), self.hidden_size)) #internal state # according to hidden size if hidden size is 2 will print [0., 0.] in every loss print 101 values in each tensor.\n",
        "        # print(c_0)\n",
        "        \n",
        "        # Propagate input through LSTM ### x = taking 1 input with 15 features. hn , cn is giving the weights according to hidden size..\n",
        "        \n",
        "        output, (hn, cn) = self.lstm(x, (h_0, c_0)) #lstm with input, hidden, and internal state... printing hn in 3d [[[]]] and 3 (hidden size) values for each input\n",
        "        \n",
        "        \n",
        "       \n",
        "        hn = hn.view(-1, self.hidden_size) #reshaping the data for Dense layer next  ### printing hn in 2d [[]]... and 3 (hidden size) values for each input.\n",
        "        \n",
        "         \n",
        "        out = self.silu(hn) #printing hn in 2d [[]]... and 3 (hidden size) values for each input.\n",
        "        \n",
        "        out = self.fc_1(out) #first Dense ### according to 50 neurons get 50 values for each input.\n",
        "        \n",
        "        out = self.silu(out) #relu ### according to 50 neurons get 50 values for each input.\n",
        "        \n",
        "        out = self.fc(out) #Final Output # getting one output against the one input\n",
        "        \n",
        "        return out"
      ],
      "execution_count": null,
      "outputs": []
    },
    {
      "cell_type": "code",
      "metadata": {
        "id": "nfZIMK3aBuxc"
      },
      "source": [
        "# Here we have defined the hidden state, and internal state first, initialized with zeros. First of all, we are going to pass the hidden state and internal state in LSTM, along with the input at the current timestamp t. This will return a new hidden state, current state, and output. We’ll reshape the output so that it can pass to a Dense Layer. Next, simply apply activations, and pass them to the dense layers, and return the output."
      ],
      "execution_count": null,
      "outputs": []
    },
    {
      "cell_type": "code",
      "metadata": {
        "id": "fGSAS7N2Buxd"
      },
      "source": [
        "num_epochs = 900 #30000 epochs\n",
        "learning_rate = 0.001 #0.001 lr\n",
        "\n",
        "input_size = 15 #number of features\n",
        "hidden_size = 30 #number of features in hidden state\n",
        "num_layers = 1 #number of stacked lstm layers###### increasing number of layers are increasing the outputs of the tensor. which is giving the error. i am getting the 202 outputs if i am increasing the layers size: RuntimeError: The size of tensor a (202) must match the size of tensor b (101) at non-singleton dimension 0\n",
        "\n",
        "num_classes = 1 #number of output classes "
      ],
      "execution_count": null,
      "outputs": []
    },
    {
      "cell_type": "code",
      "metadata": {
        "id": "7QlG5UL-Buxd"
      },
      "source": [
        "# instantiate  the class LSTM1 object\n",
        "lstm1 = LSTM1(num_classes, input_size, hidden_size, num_layers, 1) #our lstm class"
      ],
      "execution_count": null,
      "outputs": []
    },
    {
      "cell_type": "code",
      "metadata": {
        "id": "87ZkQ861Buxd"
      },
      "source": [
        "# Loss function and optimizer\n",
        "\n",
        "criterion = torch.nn.MSELoss()    # mean-squared error for regression\n",
        "optimizer = torch.optim.Adam(lstm1.parameters(), lr=learning_rate)"
      ],
      "execution_count": null,
      "outputs": []
    },
    {
      "cell_type": "code",
      "metadata": {
        "colab": {
          "base_uri": "https://localhost:8080/"
        },
        "id": "v1XcKHsstDGh",
        "outputId": "48bad98f-53b3-4e59-a224-ad1bf2f97d77"
      },
      "source": [
        "##############Training Loss#########\n",
        "loss_list = [] \n",
        "\n",
        "for epoch in range(num_epochs):\n",
        "    outputs = lstm1.forward(X_train_tensors_final) #forward pass\n",
        "    optimizer.zero_grad() #caluclate the gradient, manually setting to 0 # In PyTorch, we need to set the gradients to zero before starting to do backpropragation because PyTorch accumulates the gradients on subsequent backward passes. This is convenient while training RNNs. So, the default action is to accumulate (i.e. sum) the gradients on every loss.backward() call. Because of this, when you start your training loop, ideally you should zero out the gradients so that you do the parameter update correctly. Else the gradient would point in some other direction than the intended direction towards the minimum (or maximum, in case of maximization objectives).\n",
        "    loss = criterion(outputs, y_train_tensors)# obtain the loss function\n",
        "    loss.backward() #calculates the loss of the loss function\n",
        "    optimizer.step() #improve from loss, i.e backprop\n",
        "    \n",
        "    loss_list.append(loss) # store loss\n",
        "    \n",
        "    \n",
        "    if epoch % 100 == 0:\n",
        "        print(\"Epoch: %d, loss: %f\" % (epoch, loss.item()))\n",
        "        \n",
        "        "
      ],
      "execution_count": null,
      "outputs": [
        {
          "output_type": "stream",
          "text": [
            "Epoch: 0, loss: 1.188974\n",
            "Epoch: 100, loss: 0.032568\n",
            "Epoch: 200, loss: 0.009822\n",
            "Epoch: 300, loss: 0.005205\n",
            "Epoch: 400, loss: 0.003282\n",
            "Epoch: 500, loss: 0.002272\n",
            "Epoch: 600, loss: 0.001590\n",
            "Epoch: 700, loss: 0.001084\n",
            "Epoch: 800, loss: 0.000753\n"
          ],
          "name": "stdout"
        }
      ]
    },
    {
      "cell_type": "code",
      "metadata": {
        "colab": {
          "base_uri": "https://localhost:8080/",
          "height": 278
        },
        "id": "W3mmeXKOtLsD",
        "outputId": "5174d306-c8b5-4a3f-adeb-bb8a38582e98"
      },
      "source": [
        "plt.plot(range(num_epochs),loss_list)\n",
        "# plt.plot(range(num_epochs),val_loss_list)\n",
        "\n",
        "plt.xlabel(\"Number of Iterations\")\n",
        "plt.ylabel(\"Loss\")\n",
        "plt.show()"
      ],
      "execution_count": null,
      "outputs": [
        {
          "output_type": "display_data",
          "data": {
            "image/png": "[encoded data removed]",
            "text/plain": [
              "<Figure size 432x288 with 1 Axes>"
            ]
          },
          "metadata": {
            "tags": [],
            "needs_background": "light"
          }
        }
      ]
    },
    {
      "cell_type": "code",
      "metadata": {
        "id": "J_XMJZlJBuxd"
      },
      "source": [
        "#  loop for the number of epochs, do the forward pass, calculate the loss, improve the weights via the optimizer step.# Train the model"
      ],
      "execution_count": null,
      "outputs": []
    },
    {
      "cell_type": "code",
      "metadata": {
        "colab": {
          "base_uri": "https://localhost:8080/"
        },
        "id": "IX5v0zddNQI4",
        "outputId": "6947bdc7-3118-4657-8a4a-fc968b2067af"
      },
      "source": [
        "# # Specify a path\n",
        "# %pwd\n",
        "# PATH = \"cherat_nn_model2.pt-lr0.001-selectedvariables\"\n",
        "\n",
        "# # # Save\n",
        "# #torch.save(lstm1, PATH)\n",
        "\n",
        "# # Load\n",
        "# model = torch.load(PATH)\n",
        "# model.eval()"
      ],
      "execution_count": null,
      "outputs": [
        {
          "output_type": "execute_result",
          "data": {
            "text/plain": [
              "LSTM1(\n",
              "  (lstm): LSTM(15, 30, batch_first=True)\n",
              "  (fc_1): Linear(in_features=30, out_features=40, bias=True)\n",
              "  (fc): Linear(in_features=40, out_features=1, bias=True)\n",
              "  (silu): SiLU()\n",
              ")"
            ]
          },
          "metadata": {
            "tags": []
          },
          "execution_count": 1414
        }
      ]
    },
    {
      "cell_type": "code",
      "metadata": {
        "id": "vjtXmwqjBuxf"
      },
      "source": [
        "# We can now simply perform predictions on the whole dataset via a forward pass, and then to plot them, we will convert the predictions to numpy, reverse transform them (remember that you transformed the labels to check the actual answer, and that we’ll need to reverse transform it) and then plot it."
      ],
      "execution_count": null,
      "outputs": []
    },
    {
      "cell_type": "code",
      "metadata": {
        "id": "hRC8hEVpsyxZ"
      },
      "source": [
        "test_predict = lstm1.forward(X_test_tensors_final) #forward pass"
      ],
      "execution_count": null,
      "outputs": []
    },
    {
      "cell_type": "code",
      "metadata": {
        "colab": {
          "base_uri": "https://localhost:8080/",
          "height": 552
        },
        "id": "Bv0Obk7ksynC",
        "outputId": "0c4debde-de71-427c-c52f-2da1d36f828f"
      },
      "source": [
        "plt.figure(figsize=(18,9)) #plotting\n",
        "\n",
        "plt.plot(y_test_tensors.data.numpy(), label='Actuall Data') #actual plot\n",
        "\n",
        "plt.plot(test_predict.data.numpy(), label='Predicted Data') #predicted plot\n",
        "\n",
        "plt.title('Time-Series Prediction')\n",
        "\n",
        "plt.legend()\n",
        "\n",
        "plt.show() "
      ],
      "execution_count": null,
      "outputs": [
        {
          "output_type": "display_data",
          "data": {
            "image/png": "[encoded data removed]",
            "text/plain": [
              "<Figure size 1296x648 with 1 Axes>"
            ]
          },
          "metadata": {
            "tags": [],
            "needs_background": "light"
          }
        }
      ]
    },
    {
      "cell_type": "markdown",
      "metadata": {
        "id": "tE0kN8bDBuxg"
      },
      "source": [
        "# MSE & RMSE"
      ]
    },
    {
      "cell_type": "code",
      "metadata": {
        "id": "GI4JHqUfBuxg"
      },
      "source": [
        "def mse_rmse(test_variable,prediction_variable):\n",
        "    a = rmse(test_variable,prediction_variable)\n",
        "    b = mse(test_variable,prediction_variable)\n",
        "    print('rmse =', a)\n",
        "    print('mse =', b)"
      ],
      "execution_count": null,
      "outputs": []
    },
    {
      "cell_type": "code",
      "metadata": {
        "colab": {
          "base_uri": "https://localhost:8080/"
        },
        "id": "zeznxFCMBuxg",
        "outputId": "8a8c73c6-6d1d-47ef-d393-cd9de040fed2"
      },
      "source": [
        "mse_rmse(y_test_tensors.data.numpy(),test_predict.data.numpy())"
      ],
      "execution_count": null,
      "outputs": [
        {
          "output_type": "stream",
          "text": [
            "rmse = [0.2503135]\n",
            "mse = [0.06265685]\n"
          ],
          "name": "stdout"
        }
      ]
    },
    {
      "cell_type": "code",
      "metadata": {
        "id": "8g3urq04Buxm"
      },
      "source": [
        ""
      ],
      "execution_count": null,
      "outputs": []
    },
    {
      "cell_type": "code",
      "metadata": {
        "id": "lZ7Er_3Ka9iZ"
      },
      "source": [
        ""
      ],
      "execution_count": null,
      "outputs": []
    }
  ]
}